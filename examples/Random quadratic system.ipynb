{
 "cells": [
  {
   "cell_type": "code",
   "execution_count": 1,
   "metadata": {},
   "outputs": [
    {
     "name": "stdout",
     "output_type": "stream",
     "text": [
      "Populating the interactive namespace from numpy and matplotlib\n"
     ]
    }
   ],
   "source": [
    "%pylab inline\n",
    "import numpy as np\n",
    "import matplotlib.patches as patches\n",
    "\n",
    "import sys \n",
    "sys.path.append('../core/')\n",
    "from utils import *\n",
    "from param_sweep import *\n",
    "from sparse_reg import *\n",
    "\n",
    "np.random.seed(1)"
   ]
  },
  {
   "cell_type": "code",
   "execution_count": 2,
   "metadata": {},
   "outputs": [],
   "source": [
    "m = 100\n",
    "n = 20\n",
    "p = 2\n",
    "s = 10\n",
    "sigma_pct = 1\n",
    "A_cond = 1\n",
    "\n",
    "A,y,x_true = get_random_data(m,n,s,sigma_pct,A_cond,p)\n",
    "m,n=A.shape"
   ]
  },
  {
   "cell_type": "code",
   "execution_count": 3,
   "metadata": {},
   "outputs": [
    {
     "name": "stdout",
     "output_type": "stream",
     "text": [
      "Dimension: 231\n",
      "Condition number: 233.96551746814688\n"
     ]
    }
   ],
   "source": [
    "print('Dimension:', n)\n",
    "print('Condition number:', np.linalg.cond(A))"
   ]
  },
  {
   "cell_type": "code",
   "execution_count": 4,
   "metadata": {
    "scrolled": true
   },
   "outputs": [],
   "source": [
    "normalize = True\n",
    "X_foba,Tau_foba = Search_tau(A, y, FoBaGreedy, [100,5,5,False], normalize)\n",
    "X_stls,Tau_stls = Search_tau(A, y, STRidge, 1e-5, normalize)"
   ]
  },
  {
   "cell_type": "code",
   "execution_count": 5,
   "metadata": {},
   "outputs": [
    {
     "name": "stdout",
     "output_type": "stream",
     "text": [
      "N_foba: 50\n",
      "N_stls: 356\n"
     ]
    }
   ],
   "source": [
    "print('N_foba:',len(Tau_foba))\n",
    "print('N_stls:',len(Tau_stls))"
   ]
  },
  {
   "cell_type": "code",
   "execution_count": 6,
   "metadata": {},
   "outputs": [],
   "source": [
    "true_sparsity = (np.abs(x_true) > 0).astype(int)\n",
    "\n",
    "sparsity_foba = np.hstack(np.abs(X_foba) > 0).astype(int)\n",
    "sparsity_err_foba = np.sum(np.hstack([(np.abs(x) > 0).astype(int)+true_sparsity for x in X_foba])%2, axis = 0)\n",
    "\n",
    "sparsity_stls = np.hstack(np.abs(X_stls) > 0).astype(int)\n",
    "sparsity_err_stls = np.sum(np.hstack([(np.abs(x) > 0).astype(int)+true_sparsity for x in X_stls])%2, axis = 0)"
   ]
  },
  {
   "cell_type": "code",
   "execution_count": 7,
   "metadata": {},
   "outputs": [
    {
     "data": {
      "image/png": "[encoded data removed]",
      "text/plain": [
       "<Figure size 432x288 with 2 Axes>"
      ]
     },
     "metadata": {
      "needs_background": "light"
     },
     "output_type": "display_data"
    }
   ],
   "source": [
    "figure(figsize = (6,4))\n",
    "label_fontsize = 16\n",
    "\n",
    "##################################################################################################################\n",
    "\n",
    "ax = subplot(211)\n",
    "for j in range(len(Tau_foba)-1):\n",
    "    if sparsity_err_foba[j] == 0:\n",
    "        ax.add_patch(patches.Rectangle((Tau_foba[j],0),Tau_foba[j+1]-Tau_foba[j],n,\n",
    "                                       linewidth=1,edgecolor='none',\n",
    "                                       facecolor='b', alpha = 0.5))\n",
    "\n",
    "Tau_mesh, N_mesh = np.meshgrid(Tau_foba, np.arange(n+1))\n",
    "ax.pcolor(Tau_mesh, N_mesh, sparsity_foba[:,:-1], cmap = 'binary',shading='auto')\n",
    "xscale('symlog', linthresh = Tau_foba[1])\n",
    "xlim(Tau_foba[0], Tau_foba[-1])\n",
    "ylim([0,n])\n",
    "ylabel(r'AFBG', fontsize = label_fontsize)\n",
    "xticks([1e-14, 1e-12, 1e-10, 1e-8, 1e-6, 1e-4, 1e-2], fontsize = label_fontsize)\n",
    "yticks(fontsize = label_fontsize)\n",
    "\n",
    "##################################################################################################################\n",
    "\n",
    "ax = subplot(212)\n",
    "for j in range(len(Tau_stls)-1):\n",
    "    if sparsity_err_stls[j] == 0:\n",
    "        ax.add_patch(patches.Rectangle((Tau_stls[j],0),Tau_stls[j+1]-Tau_stls[j],n,\n",
    "                                       linewidth=1,edgecolor='none',\n",
    "                                       facecolor='b', alpha = 0.5))\n",
    "\n",
    "Tau_mesh, N_mesh = np.meshgrid(Tau_stls, np.arange(n+1))\n",
    "ax.pcolor(Tau_mesh, N_mesh, sparsity_stls[:,:-1], cmap = 'binary',shading='auto')\n",
    "xscale('symlog', linthresh = Tau_stls[1])\n",
    "xlim(Tau_stls[0], Tau_stls[-1])\n",
    "ylim([0,n])\n",
    "\n",
    "xlabel(r'$\\tau$', fontsize = label_fontsize)\n",
    "ylabel(r'STR', fontsize = label_fontsize)\n",
    "xticks(fontsize = label_fontsize)\n",
    "yticks(fontsize = label_fontsize)\n",
    "\n",
    "tight_layout()\n",
    "\n",
    "savefig('../figures/quadratic.png', dpi=800, transparent=True)"
   ]
  },
  {
   "cell_type": "code",
   "execution_count": 8,
   "metadata": {},
   "outputs": [
    {
     "data": {
      "image/png": "[encoded data removed]",
      "text/plain": [
       "<Figure size 1080x360 with 2 Axes>"
      ]
     },
     "metadata": {
      "needs_background": "light"
     },
     "output_type": "display_data"
    }
   ],
   "source": [
    "figure(figsize = (15,5))\n",
    "label_fontsize = 16\n",
    "\n",
    "##################################################################################################################\n",
    "\n",
    "ax = subplot(211)\n",
    "for j in range(len(Tau_foba)-1):\n",
    "    if sparsity_err_foba[j] == 0:\n",
    "        ax.add_patch(patches.Rectangle((Tau_foba[j],0),Tau_foba[j+1]-Tau_foba[j],n,\n",
    "                                       linewidth=1,edgecolor='none',\n",
    "                                       facecolor='b', alpha = 0.5))\n",
    "\n",
    "Tau_mesh, N_mesh = np.meshgrid(Tau_foba, np.arange(n+1))\n",
    "ax.pcolor(Tau_mesh, N_mesh, sparsity_foba[:,:-1], cmap = 'binary',shading='auto')\n",
    "xscale('symlog', linthresh = Tau_foba[1])\n",
    "xlim(Tau_foba[0], Tau_foba[-1])\n",
    "ylim([0,n])\n",
    "ylabel(r'AFBG', fontsize = label_fontsize)\n",
    "xticks([1e-1,1,10,100,1000,10000], fontsize = label_fontsize)\n",
    "yticks(fontsize = label_fontsize)\n",
    "\n",
    "##################################################################################################################\n",
    "\n",
    "ax = subplot(212)\n",
    "for j in range(len(Tau_stls)-1):\n",
    "    if sparsity_err_stls[j] == 0:\n",
    "        ax.add_patch(patches.Rectangle((Tau_stls[j],0),Tau_stls[j+1]-Tau_stls[j],n,\n",
    "                                       linewidth=1,edgecolor='none',\n",
    "                                       facecolor='b', alpha = 0.5))\n",
    "\n",
    "Tau_mesh, N_mesh = np.meshgrid(Tau_stls, np.arange(n+1))\n",
    "ax.pcolor(Tau_mesh, N_mesh, sparsity_stls[:,:-1], cmap = 'binary',shading='auto')\n",
    "xscale('symlog', linthresh = Tau_stls[1])\n",
    "xlim(Tau_stls[0], Tau_stls[-1])\n",
    "ylim([0,n])\n",
    "\n",
    "xlabel(r'$\\tau$', fontsize = label_fontsize)\n",
    "ylabel(r'STR', fontsize = label_fontsize)\n",
    "xticks(fontsize = label_fontsize)\n",
    "yticks(fontsize = label_fontsize)\n",
    "\n",
    "tight_layout()\n",
    "\n",
    "savefig('../figures/quadratic_wide.png', dpi=800, transparent=True)"
   ]
  },
  {
   "cell_type": "code",
   "execution_count": null,
   "metadata": {},
   "outputs": [],
   "source": []
  }
 ],
 "metadata": {
  "kernelspec": {
   "display_name": "Python 3",
   "language": "python",
   "name": "python3"
  },
  "language_info": {
   "codemirror_mode": {
    "name": "ipython",
    "version": 3
   },
   "file_extension": ".py",
   "mimetype": "text/x-python",
   "name": "python",
   "nbconvert_exporter": "python",
   "pygments_lexer": "ipython3",
   "version": "3.8.5"
  }
 },
 "nbformat": 4,
 "nbformat_minor": 2
}
